{
 "cells": [
  {
   "cell_type": "markdown",
   "metadata": {},
   "source": [
    "# MVP author search with OpenAlex data source"
   ]
  },
  {
   "cell_type": "markdown",
   "metadata": {},
   "source": [
    "Stack choice:\n",
    "- PGVector (Try new thing... not very performant tho.)\n",
    "- SQLModel (For faster dev, less boilerplate)\n",
    "- OpenAI (Faster prototyping...)\n",
    "\n",
    "Steps:\n",
    "1. Pull from open alex\n",
    "1. Get abstract and full text (Defer)\n",
    "1. Get embeddings\n",
    "1. Push to PGVector\n"
   ]
  },
  {
   "cell_type": "code",
   "execution_count": 2,
   "metadata": {},
   "outputs": [
    {
     "name": "stderr",
     "output_type": "stream",
     "text": [
      "2024-11-17 08:22:57,549 - openalex-search - INFO - Config(EMBEDDING_MODEL='text-embedding-ada-002', EMBEDDING_DIMS=1536, HNSW_M=32, HNSW_EF_CONSTRUCTION=512)\n"
     ]
    }
   ],
   "source": [
    "from openalex_search.common import LOGGER, CONFIG\n",
    "\n",
    "LOGGER.info(CONFIG)"
   ]
  },
  {
   "cell_type": "markdown",
   "metadata": {},
   "source": [
    "### Dump to staging"
   ]
  },
  {
   "cell_type": "code",
   "execution_count": null,
   "metadata": {},
   "outputs": [],
   "source": [
    "from openalex_search.staging import LocalDumper\n",
    "\n",
    "dumper = LocalDumper()\n",
    "mock_data = [{\"test\": 1, \"test2\": 2}]\n",
    "dumper.dump(data=mock_data, file_name=\"test.parquet\")"
   ]
  },
  {
   "cell_type": "code",
   "execution_count": null,
   "metadata": {},
   "outputs": [],
   "source": []
  },
  {
   "cell_type": "markdown",
   "metadata": {},
   "source": [
    "### Ingest"
   ]
  },
  {
   "cell_type": "code",
   "execution_count": null,
   "metadata": {},
   "outputs": [],
   "source": [
    "from openalex_search.db import init\n",
    "from openalex_search.embedding import embed_work\n",
    "from openalex_search.db import Work, engine\n",
    "from sqlalchemy.orm import Session\n",
    "\n",
    "init(wipe=True)"
   ]
  },
  {
   "cell_type": "code",
   "execution_count": null,
   "metadata": {},
   "outputs": [],
   "source": []
  },
  {
   "cell_type": "code",
   "execution_count": null,
   "metadata": {},
   "outputs": [],
   "source": [
    "my_work = Work.pull(doi=\"10.1016/j.dcn.2023.101292\")\n",
    "my_work = embed_work(my_work)\n"
   ]
  },
  {
   "cell_type": "code",
   "execution_count": null,
   "metadata": {},
   "outputs": [],
   "source": [
    "with Session(engine) as session:\n",
    "    session.add(my_work)\n",
    "    session.commit()"
   ]
  },
  {
   "cell_type": "markdown",
   "metadata": {},
   "source": [
    "### Search"
   ]
  },
  {
   "cell_type": "code",
   "execution_count": null,
   "metadata": {},
   "outputs": [],
   "source": [
    "from openalex_search.search import search\n",
    "\n",
    "search(query=\"Neural specialization in Reading\")\n"
   ]
  }
 ],
 "metadata": {
  "kernelspec": {
   "display_name": ".venv",
   "language": "python",
   "name": "python3"
  },
  "language_info": {
   "codemirror_mode": {
    "name": "ipython",
    "version": 3
   },
   "file_extension": ".py",
   "mimetype": "text/x-python",
   "name": "python",
   "nbconvert_exporter": "python",
   "pygments_lexer": "ipython3",
   "version": "3.12.7"
  }
 },
 "nbformat": 4,
 "nbformat_minor": 2
}
