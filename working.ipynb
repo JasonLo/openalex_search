{
 "cells": [
  {
   "cell_type": "markdown",
   "metadata": {},
   "source": [
    "# MVP author search with OpenAlex data source"
   ]
  },
  {
   "cell_type": "markdown",
   "metadata": {},
   "source": [
    "Stack choice:\n",
    "- PGVector (Try new thing... not very performant tho.)\n",
    "- SQLModel (For faster dev, less boilerplate)\n",
    "- OpenAI (Faster prototyping...)\n",
    "\n",
    "Steps:\n",
    "1. Pull from open alex\n",
    "1. Get abstract and full text (Defer)\n",
    "1. Get embeddings\n",
    "1. Push to PGVector\n"
   ]
  },
  {
   "cell_type": "code",
   "execution_count": null,
   "metadata": {},
   "outputs": [],
   "source": [
    "from openalex_search.db import init\n",
    "from openalex_search.embedding import embed_work\n",
    "from openalex_search.db import Work, engine\n",
    "from sqlalchemy.orm import Session\n",
    "\n",
    "init(wipe=True)"
   ]
  },
  {
   "cell_type": "code",
   "execution_count": 2,
   "metadata": {},
   "outputs": [],
   "source": [
    "my_work = Work.pull(doi=\"10.1016/j.dcn.2023.101292\")\n",
    "my_work = embed_work(my_work)\n"
   ]
  },
  {
   "cell_type": "code",
   "execution_count": null,
   "metadata": {},
   "outputs": [],
   "source": [
    "with Session(engine) as session:\n",
    "    session.add(my_work)\n",
    "    session.commit()"
   ]
  }
 ],
 "metadata": {
  "kernelspec": {
   "display_name": ".venv",
   "language": "python",
   "name": "python3"
  },
  "language_info": {
   "codemirror_mode": {
    "name": "ipython",
    "version": 3
   },
   "file_extension": ".py",
   "mimetype": "text/x-python",
   "name": "python",
   "nbconvert_exporter": "python",
   "pygments_lexer": "ipython3",
   "version": "3.12.7"
  }
 },
 "nbformat": 4,
 "nbformat_minor": 2
}
