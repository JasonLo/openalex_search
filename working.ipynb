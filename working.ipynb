{
 "cells": [
  {
   "cell_type": "markdown",
   "metadata": {},
   "source": [
    "# MVP author search with OpenAlex data source"
   ]
  },
  {
   "cell_type": "markdown",
   "metadata": {},
   "source": [
    "The main goal is to return at author (and institution level) from a given search query.\n",
    "\n",
    "### Groupby and aggregate\n",
    "\n",
    "Borrowing/Stealing? the design language from pandas, let's think about `groupby` and `aggregate`.\n",
    "\n",
    "- groupby: defines the return object level (`author` for now)\n",
    "- aggregate: what formula we will use to `reduce` multiple records into a single metric. For example:\n",
    "    - basic count of hits\n",
    "    - custom `reranker` borrowing from retrival augmented generation (RAG) field, we weights the things that people like to see to obtain a score. More specifically, we can obtain the `cited_by_count` in each relevant paper and sum all within an author.\n",
    "    - `reranker` can also sources form multiple underlying metrics like what we do in [faculty search](https://github.com/UW-Madison-DSI/faculty-search/blob/eff2ecfedcf5e817e70e3f3541b91d4cceeabb27/api/core.py#L387)\n",
    "\n",
    "TODOs:\n",
    "\n",
    "1. Make a MVP groupby aggregate interface for search with base hit counts\n",
    "1. Implement faculty search `reranker` into aggregate\n",
    "\n",
    "\n",
    "Mock Interface \n",
    "\n",
    "```python\n",
    "search_results = search(\"effect of fungicide on corn\")\n",
    "search_results.groupby(\"author\").aggregate(\"count\")  # Hit Counts, return authors\n",
    "search_results.groupby(\"institution\").aggregate(\"count\")  # Hit Counts, return institute\n",
    "search_results.groupby(\"author\").aggregate(\"reranker_v0\")  # Fully custom reranker, return author\n",
    "```"
   ]
  },
  {
   "cell_type": "code",
   "execution_count": null,
   "metadata": {},
   "outputs": [
    {
     "data": {
      "text/plain": [
       "[Author(orcid='https://orcid.org/0000-0002-5769-7094', display_name_alternatives=None, cited_by_count=0, updated_date=datetime.datetime(2024, 11, 17, 20, 7, 29, 674881), works_count=0, display_name='K. Cranmer', id='https://openalex.org/A5108167175', last_known_institution=None, works_api_url=None),\n",
       " Author(orcid='https://orcid.org/0000-0002-4340-4983', display_name_alternatives=None, cited_by_count=0, updated_date=datetime.datetime(2024, 11, 17, 20, 7, 29, 669944), works_count=0, display_name='Gurtej Kanwar', id='https://openalex.org/A5033100318', last_known_institution=None, works_api_url=None),\n",
       " Author(orcid='https://orcid.org/0000-0002-0916-7603', display_name_alternatives=None, cited_by_count=0, updated_date=datetime.datetime(2024, 11, 17, 20, 7, 29, 670844), works_count=0, display_name='Phiala E. Shanahan', id='https://openalex.org/A5080660291', last_known_institution=None, works_api_url=None)]"
      ]
     },
     "execution_count": 1,
     "metadata": {},
     "output_type": "execute_result"
    }
   ],
   "source": [
    "from openalex_search.search import search  # TODO: fix this messy deep import\n",
    "\n",
    "# This is a simple example of the core of groupby(\"author\").aggregate(\"count\")\n",
    "search(\"higgs boson\", top_k=3)\n"
   ]
  },
  {
   "cell_type": "markdown",
   "metadata": {},
   "source": [
    "### Snippets"
   ]
  },
  {
   "cell_type": "markdown",
   "metadata": {},
   "source": [
    "### Reset DB"
   ]
  },
  {
   "cell_type": "code",
   "execution_count": null,
   "metadata": {},
   "outputs": [],
   "source": [
    "# from sqlmodel import SQLModel\n",
    "# from pathlib import Path\n",
    "# from openalex_search.db import init, ENGINE\n",
    "# from openalex_search.ingest import ingest\n",
    "\n",
    "# SQLModel.metadata.drop_all(ENGINE)\n",
    "# init()\n",
    "# ingest(Path(\"local_data/test_authors.parquet\"))\n",
    "# ingest(Path(\"local_data/test_articles.parquet\"))"
   ]
  }
 ],
 "metadata": {
  "kernelspec": {
   "display_name": ".venv",
   "language": "python",
   "name": "python3"
  },
  "language_info": {
   "codemirror_mode": {
    "name": "ipython",
    "version": 3
   },
   "file_extension": ".py",
   "mimetype": "text/x-python",
   "name": "python",
   "nbconvert_exporter": "python",
   "pygments_lexer": "ipython3",
   "version": "3.12.7"
  }
 },
 "nbformat": 4,
 "nbformat_minor": 2
}
