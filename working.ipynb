{
 "cells": [
  {
   "cell_type": "markdown",
   "metadata": {},
   "source": [
    "# MVP author search with OpenAlex data source"
   ]
  },
  {
   "cell_type": "markdown",
   "metadata": {},
   "source": [
    "Stack choice:\n",
    "- PGVector (Try new thing... not very performant tho.)\n",
    "- SQLModel (For faster dev, less boilerplate)\n",
    "- OpenAI (Faster prototyping...)\n",
    "\n",
    "Steps:\n",
    "1. Pull from open alex\n",
    "1. Get abstract and full text (Defer)\n",
    "1. Get embeddings\n",
    "1. Push to PGVector\n"
   ]
  },
  {
   "cell_type": "code",
   "execution_count": 1,
   "metadata": {},
   "outputs": [
    {
     "name": "stderr",
     "output_type": "stream",
     "text": [
      "2024-11-17 09:12:48,557 - openalex-search - INFO - Config(EMBEDDING_MODEL='text-embedding-ada-002', EMBEDDING_DIMS=1536, HNSW_M=32, HNSW_EF_CONSTRUCTION=512, CONTACT_EMAIL='jason.lo@wisc.edu')\n"
     ]
    }
   ],
   "source": [
    "from openalex_search.common import LOGGER, CONFIG\n",
    "import pandas as pd\n",
    "\n",
    "LOGGER.info(CONFIG)"
   ]
  },
  {
   "cell_type": "markdown",
   "metadata": {},
   "source": [
    "### Dump to staging"
   ]
  },
  {
   "cell_type": "code",
   "execution_count": 2,
   "metadata": {},
   "outputs": [],
   "source": [
    "# from openalex_search.crawler import crawl\n",
    "# crawl()\n",
    "\n",
    "df = pd.read_parquet(\"local_data/test_articles.parquet\")"
   ]
  },
  {
   "cell_type": "markdown",
   "metadata": {},
   "source": [
    "### Ingest"
   ]
  },
  {
   "cell_type": "code",
   "execution_count": null,
   "metadata": {},
   "outputs": [],
   "source": [
    "from openalex_search.db import init\n",
    "from openalex_search.embedding import embed_works\n",
    "from openalex_search.db import Work, push_works\n",
    "\n",
    "init(wipe=True)"
   ]
  },
  {
   "cell_type": "code",
   "execution_count": 4,
   "metadata": {},
   "outputs": [],
   "source": [
    "works = [Work.from_raw(row.to_dict()) for i, row in df.iterrows()]\n",
    "works = embed_works(works)\n"
   ]
  },
  {
   "cell_type": "code",
   "execution_count": null,
   "metadata": {},
   "outputs": [],
   "source": [
    "# Ignore works without a title or DOI for now\n",
    "works = [work for work in works if work.title is not None and work.doi is not None]\n",
    "push_works(works)\n"
   ]
  },
  {
   "cell_type": "markdown",
   "metadata": {},
   "source": [
    "### Search"
   ]
  },
  {
   "cell_type": "code",
   "execution_count": 9,
   "metadata": {},
   "outputs": [
    {
     "name": "stdout",
     "output_type": "stream",
     "text": [
      "Development of neuronal responses in cat posteromedial lateral suprasylvian visual cortex\n",
      "Neural correlate of auditory spatial attention allocation in the superior colliculus\n",
      "A layered neural architecture for the consolidation, maintenance, and updating of representations in visual working memory\n",
      "Amblyopia decreases activation of the corticogeniculate pathway and visual thalamic reticularis in attentive rats: a `focal attention' hypothesis\n",
      "Binocular processing in the cat's dorsal lateral geniculate nucleus III. Spatial frequency, orientation, and direction sensitivity of nondominant-eye influences\n",
      "Spatial Arrangement Drastically Changes the Neural Representation of Multiple Visual Stimuli That Compete in More Than One Feature Domain\n",
      "Neuronal Activity in Substantia Nigra Pars Reticulata during Target Selection\n",
      "Target probability modulates neuronal activity in the primate saccadic system\n",
      "Residual vision in humans who have been monocularly deprived of pattern stimulation in early life\n",
      "Neuroimaging and the localization of function in visual cognition\n"
     ]
    }
   ],
   "source": [
    "from openalex_search.search import search\n",
    "\n",
    "relevant_works = search(query=\"Neural specialization in Reading\")\n",
    "for work in relevant_works:\n",
    "    print(work.title)\n"
   ]
  }
 ],
 "metadata": {
  "kernelspec": {
   "display_name": ".venv",
   "language": "python",
   "name": "python3"
  },
  "language_info": {
   "codemirror_mode": {
    "name": "ipython",
    "version": 3
   },
   "file_extension": ".py",
   "mimetype": "text/x-python",
   "name": "python",
   "nbconvert_exporter": "python",
   "pygments_lexer": "ipython3",
   "version": "3.12.7"
  }
 },
 "nbformat": 4,
 "nbformat_minor": 2
}
